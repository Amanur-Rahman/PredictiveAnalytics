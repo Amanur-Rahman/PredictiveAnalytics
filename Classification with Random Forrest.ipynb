{
 "cells": [
  {
   "cell_type": "markdown",
   "metadata": {},
   "source": [
    "# Objective: Predict Customer Retention of a Travel Company"
   ]
  },
  {
   "cell_type": "code",
   "execution_count": 132,
   "metadata": {},
   "outputs": [],
   "source": [
    "#Import packages\n",
    "import numpy as np\n",
    "import pandas as pd\n",
    "import matplotlib.pyplot as plt\n",
    "\n",
    "#import data science packages\n",
    "from sklearn.impute import SimpleImputer\n",
    "from sklearn.model_selection import train_test_split\n",
    "from sklearn.model_selection import GridSearchCV\n",
    "from sklearn.metrics import roc_curve, auc, roc_auc_score, classification_report, confusion_matrix, make_scorer\n",
    "from sklearn.ensemble import RandomForestClassifier, GradientBoostingClassifier\n"
   ]
  },
  {
   "cell_type": "code",
   "execution_count": 133,
   "metadata": {},
   "outputs": [
    {
     "data": {
      "text/html": [
       "<div>\n",
       "<style scoped>\n",
       "    .dataframe tbody tr th:only-of-type {\n",
       "        vertical-align: middle;\n",
       "    }\n",
       "\n",
       "    .dataframe tbody tr th {\n",
       "        vertical-align: top;\n",
       "    }\n",
       "\n",
       "    .dataframe thead th {\n",
       "        text-align: right;\n",
       "    }\n",
       "</style>\n",
       "<table border=\"1\" class=\"dataframe\">\n",
       "  <thead>\n",
       "    <tr style=\"text-align: right;\">\n",
       "      <th></th>\n",
       "      <th>ID</th>\n",
       "      <th>Program.Code</th>\n",
       "      <th>From.Grade</th>\n",
       "      <th>To.Grade</th>\n",
       "      <th>Group.State</th>\n",
       "      <th>Is.Non.Annual.</th>\n",
       "      <th>Days</th>\n",
       "      <th>Travel.Type</th>\n",
       "      <th>Departure.Date</th>\n",
       "      <th>Return.Date</th>\n",
       "      <th>...</th>\n",
       "      <th>GroupGradeTypeLow</th>\n",
       "      <th>GroupGradeTypeHigh</th>\n",
       "      <th>GroupGradeType</th>\n",
       "      <th>MajorProgramCode</th>\n",
       "      <th>SingleGradeTripFlag</th>\n",
       "      <th>FPP.to.School.enrollment</th>\n",
       "      <th>FPP.to.PAX</th>\n",
       "      <th>Num.of.Non_FPP.PAX</th>\n",
       "      <th>SchoolSizeIndicator</th>\n",
       "      <th>Retained.in.2012.</th>\n",
       "    </tr>\n",
       "  </thead>\n",
       "  <tbody>\n",
       "    <tr>\n",
       "      <th>0</th>\n",
       "      <td>1</td>\n",
       "      <td>HS</td>\n",
       "      <td>4.0</td>\n",
       "      <td>4.0</td>\n",
       "      <td>CA</td>\n",
       "      <td>0</td>\n",
       "      <td>1</td>\n",
       "      <td>A</td>\n",
       "      <td>40557</td>\n",
       "      <td>40557</td>\n",
       "      <td>...</td>\n",
       "      <td>K</td>\n",
       "      <td>Elementary</td>\n",
       "      <td>K-&gt;Elementary</td>\n",
       "      <td>H</td>\n",
       "      <td>1</td>\n",
       "      <td>0.063646</td>\n",
       "      <td>0.936508</td>\n",
       "      <td>4</td>\n",
       "      <td>L</td>\n",
       "      <td>1</td>\n",
       "    </tr>\n",
       "    <tr>\n",
       "      <th>1</th>\n",
       "      <td>2</td>\n",
       "      <td>HC</td>\n",
       "      <td>8.0</td>\n",
       "      <td>8.0</td>\n",
       "      <td>AZ</td>\n",
       "      <td>0</td>\n",
       "      <td>7</td>\n",
       "      <td>A</td>\n",
       "      <td>40557</td>\n",
       "      <td>40564</td>\n",
       "      <td>...</td>\n",
       "      <td>Middle</td>\n",
       "      <td>Middle</td>\n",
       "      <td>Middle-&gt;Middle</td>\n",
       "      <td>H</td>\n",
       "      <td>1</td>\n",
       "      <td>0.025882</td>\n",
       "      <td>0.880000</td>\n",
       "      <td>3</td>\n",
       "      <td>L</td>\n",
       "      <td>1</td>\n",
       "    </tr>\n",
       "    <tr>\n",
       "      <th>2</th>\n",
       "      <td>3</td>\n",
       "      <td>HD</td>\n",
       "      <td>8.0</td>\n",
       "      <td>8.0</td>\n",
       "      <td>FL</td>\n",
       "      <td>0</td>\n",
       "      <td>3</td>\n",
       "      <td>A</td>\n",
       "      <td>40558</td>\n",
       "      <td>40560</td>\n",
       "      <td>...</td>\n",
       "      <td>Middle</td>\n",
       "      <td>Middle</td>\n",
       "      <td>Middle-&gt;Middle</td>\n",
       "      <td>H</td>\n",
       "      <td>1</td>\n",
       "      <td>0.025131</td>\n",
       "      <td>0.888889</td>\n",
       "      <td>3</td>\n",
       "      <td>L</td>\n",
       "      <td>1</td>\n",
       "    </tr>\n",
       "    <tr>\n",
       "      <th>3</th>\n",
       "      <td>4</td>\n",
       "      <td>HN</td>\n",
       "      <td>9.0</td>\n",
       "      <td>12.0</td>\n",
       "      <td>VA</td>\n",
       "      <td>1</td>\n",
       "      <td>3</td>\n",
       "      <td>B</td>\n",
       "      <td>40558</td>\n",
       "      <td>40560</td>\n",
       "      <td>...</td>\n",
       "      <td>Undefined</td>\n",
       "      <td>Undefined</td>\n",
       "      <td>Undefined-&gt;Undefined</td>\n",
       "      <td>H</td>\n",
       "      <td>0</td>\n",
       "      <td>NaN</td>\n",
       "      <td>1.000000</td>\n",
       "      <td>0</td>\n",
       "      <td>NaN</td>\n",
       "      <td>0</td>\n",
       "    </tr>\n",
       "    <tr>\n",
       "      <th>4</th>\n",
       "      <td>5</td>\n",
       "      <td>HD</td>\n",
       "      <td>6.0</td>\n",
       "      <td>8.0</td>\n",
       "      <td>FL</td>\n",
       "      <td>0</td>\n",
       "      <td>6</td>\n",
       "      <td>T</td>\n",
       "      <td>40559</td>\n",
       "      <td>40564</td>\n",
       "      <td>...</td>\n",
       "      <td>Middle</td>\n",
       "      <td>Middle</td>\n",
       "      <td>Middle-&gt;Middle</td>\n",
       "      <td>H</td>\n",
       "      <td>0</td>\n",
       "      <td>0.112500</td>\n",
       "      <td>0.910112</td>\n",
       "      <td>8</td>\n",
       "      <td>M-L</td>\n",
       "      <td>0</td>\n",
       "    </tr>\n",
       "  </tbody>\n",
       "</table>\n",
       "<p>5 rows × 56 columns</p>\n",
       "</div>"
      ],
      "text/plain": [
       "   ID Program.Code  From.Grade  To.Grade Group.State  Is.Non.Annual.  Days  \\\n",
       "0   1           HS         4.0       4.0          CA               0     1   \n",
       "1   2           HC         8.0       8.0          AZ               0     7   \n",
       "2   3           HD         8.0       8.0          FL               0     3   \n",
       "3   4           HN         9.0      12.0          VA               1     3   \n",
       "4   5           HD         6.0       8.0          FL               0     6   \n",
       "\n",
       "  Travel.Type  Departure.Date  Return.Date  ...  GroupGradeTypeLow  \\\n",
       "0           A           40557        40557  ...                  K   \n",
       "1           A           40557        40564  ...             Middle   \n",
       "2           A           40558        40560  ...             Middle   \n",
       "3           B           40558        40560  ...          Undefined   \n",
       "4           T           40559        40564  ...             Middle   \n",
       "\n",
       "  GroupGradeTypeHigh        GroupGradeType  MajorProgramCode  \\\n",
       "0         Elementary         K->Elementary                 H   \n",
       "1             Middle        Middle->Middle                 H   \n",
       "2             Middle        Middle->Middle                 H   \n",
       "3          Undefined  Undefined->Undefined                 H   \n",
       "4             Middle        Middle->Middle                 H   \n",
       "\n",
       "   SingleGradeTripFlag  FPP.to.School.enrollment  FPP.to.PAX  \\\n",
       "0                    1                  0.063646    0.936508   \n",
       "1                    1                  0.025882    0.880000   \n",
       "2                    1                  0.025131    0.888889   \n",
       "3                    0                       NaN    1.000000   \n",
       "4                    0                  0.112500    0.910112   \n",
       "\n",
       "   Num.of.Non_FPP.PAX  SchoolSizeIndicator  Retained.in.2012.  \n",
       "0                   4                    L                  1  \n",
       "1                   3                    L                  1  \n",
       "2                   3                    L                  1  \n",
       "3                   0                  NaN                  0  \n",
       "4                   8                  M-L                  0  \n",
       "\n",
       "[5 rows x 56 columns]"
      ]
     },
     "execution_count": 133,
     "metadata": {},
     "output_type": "execute_result"
    }
   ],
   "source": [
    "#import data\n",
    "path = 'STC_csv'\n",
    "\n",
    "df = pd.read_csv (path, header = 0)\n",
    "df.head()\n"
   ]
  },
  {
   "cell_type": "code",
   "execution_count": 134,
   "metadata": {},
   "outputs": [],
   "source": [
    "#df.info()"
   ]
  },
  {
   "cell_type": "markdown",
   "metadata": {},
   "source": [
    "# Data Cleaning\n",
    "\n",
    "Step 1 : Change Type;\n",
    "Step 2: Group categories with low frequency;\n",
    "Step 3: Impute missing values;\n",
    "Step 4: Dummy variables;"
   ]
  },
  {
   "cell_type": "code",
   "execution_count": 135,
   "metadata": {},
   "outputs": [],
   "source": [
    "# Data Cleaning Step 1: Datatype are wrong in some cases, so we need to change it to from float to category\n",
    "\n",
    "df['From.Grade'] = df['From.Grade'].astype('category')\n",
    "df['To.Grade'] = df['To.Grade'].astype('category')\n",
    "df['Is.Non.Annual.'] = df['Is.Non.Annual.'].astype('category')\n",
    "df['Parent.Meeting.Flag'] = df['Parent.Meeting.Flag'].astype('category')\n",
    "df['Days'] = df['Days'].astype('category')\n",
    "df['CRM.Segment'] = df['CRM.Segment'].astype('category')\n",
    "df['MDR.High.Grade'] = df['MDR.High.Grade'].astype('category')\n",
    "df['School.Sponsor'] = df['School.Sponsor'].astype('category')\n",
    "df['NumberOfMeetingswithParents'] = df['CRM.Segment'].astype('category')\n",
    "df['SingleGradeTripFlag'] = df['SingleGradeTripFlag'].astype('category')"
   ]
  },
  {
   "cell_type": "code",
   "execution_count": 136,
   "metadata": {},
   "outputs": [],
   "source": [
    "#df.info ()"
   ]
  },
  {
   "cell_type": "code",
   "execution_count": 152,
   "metadata": {},
   "outputs": [],
   "source": [
    "#Checking categories in each column\n",
    "\n",
    "#for col in df.select_dtypes(include=['category','object','bool']).columns:\n",
    "#    print(col)\n",
    "#    print(df[col].value_counts())\n",
    "#    print('\\n') "
   ]
  },
  {
   "cell_type": "code",
   "execution_count": 138,
   "metadata": {},
   "outputs": [],
   "source": [
    "#Data Cleaning Step 2: Grouping categories which are below 10\n",
    "\n",
    "#Function which will group data, taken from stackoverflow\n",
    "\n",
    "def CombineRareCategories(data, mincount):\n",
    "    for col in data.columns:\n",
    "        if (type(data[col][0]) == str):\n",
    "            for index, row in pd.DataFrame(data[col].value_counts()).iterrows():\n",
    "                if ( row[0] < mincount):\n",
    "                    df[col].replace(index, 'Other_' + col, inplace = True)\n",
    "                else:\n",
    "                    None"
   ]
  },
  {
   "cell_type": "code",
   "execution_count": 139,
   "metadata": {},
   "outputs": [],
   "source": [
    "CombineRareCategories(df, 10)\n"
   ]
  },
  {
   "cell_type": "code",
   "execution_count": 140,
   "metadata": {},
   "outputs": [],
   "source": [
    "#check for missing data\n",
    "#pd.DataFrame(df).isna().sum()"
   ]
  },
  {
   "cell_type": "code",
   "execution_count": 141,
   "metadata": {},
   "outputs": [],
   "source": [
    "#Data cleaning Step 3: Imputing Missing data\n",
    "\n",
    "# creating surrogates column indicating missing value\n",
    "for col in df:\n",
    "    if df[col].isna().sum() != 0: \n",
    "        df[col + '_surrogate'] = df[col].isna().astype(int)\n",
    "\n",
    "# fixing categoricals with missing value\n",
    "imputer = SimpleImputer(missing_values = np.nan, strategy='constant')\n",
    "imputer.fit(df.select_dtypes(exclude=['int64','float64']))\n",
    "df[df.select_dtypes(exclude=['int64','float64']).columns] = imputer.transform(df.select_dtypes(exclude=['int64','float64']))\n",
    "            \n",
    "# fixing numericals with median\n",
    "imputer = SimpleImputer(missing_values = np.nan, strategy='median')\n",
    "imputer.fit(df.select_dtypes(include=['int64','float64']))\n",
    "df[df.select_dtypes(include=['int64','float64']).columns] = imputer.transform(df.select_dtypes(include=['int64','float64']))\n"
   ]
  },
  {
   "cell_type": "code",
   "execution_count": 142,
   "metadata": {},
   "outputs": [
    {
     "data": {
      "text/html": [
       "<div>\n",
       "<style scoped>\n",
       "    .dataframe tbody tr th:only-of-type {\n",
       "        vertical-align: middle;\n",
       "    }\n",
       "\n",
       "    .dataframe tbody tr th {\n",
       "        vertical-align: top;\n",
       "    }\n",
       "\n",
       "    .dataframe thead th {\n",
       "        text-align: right;\n",
       "    }\n",
       "</style>\n",
       "<table border=\"1\" class=\"dataframe\">\n",
       "  <thead>\n",
       "    <tr style=\"text-align: right;\">\n",
       "      <th></th>\n",
       "      <th>ID</th>\n",
       "      <th>Is.Non.Annual.</th>\n",
       "      <th>Days</th>\n",
       "      <th>Departure.Date</th>\n",
       "      <th>Return.Date</th>\n",
       "      <th>Deposit.Date</th>\n",
       "      <th>Tuition</th>\n",
       "      <th>FRP.Active</th>\n",
       "      <th>FRP.Cancelled</th>\n",
       "      <th>FRP.Take.up.percent.</th>\n",
       "      <th>...</th>\n",
       "      <th>GroupGradeType_PK-&gt;High</th>\n",
       "      <th>GroupGradeType_PK-&gt;Middle</th>\n",
       "      <th>GroupGradeType_Undefined-&gt;Undefined</th>\n",
       "      <th>MajorProgramCode_H</th>\n",
       "      <th>MajorProgramCode_I</th>\n",
       "      <th>MajorProgramCode_S</th>\n",
       "      <th>SchoolSizeIndicator_M-L</th>\n",
       "      <th>SchoolSizeIndicator_S</th>\n",
       "      <th>SchoolSizeIndicator_S-M</th>\n",
       "      <th>SchoolSizeIndicator_missing_value</th>\n",
       "    </tr>\n",
       "  </thead>\n",
       "  <tbody>\n",
       "    <tr>\n",
       "      <th>0</th>\n",
       "      <td>1.0</td>\n",
       "      <td>0.0</td>\n",
       "      <td>1.0</td>\n",
       "      <td>40557.0</td>\n",
       "      <td>40557.0</td>\n",
       "      <td>40420.0</td>\n",
       "      <td>424.0</td>\n",
       "      <td>25.0</td>\n",
       "      <td>3.0</td>\n",
       "      <td>0.424</td>\n",
       "      <td>...</td>\n",
       "      <td>0</td>\n",
       "      <td>0</td>\n",
       "      <td>0</td>\n",
       "      <td>1</td>\n",
       "      <td>0</td>\n",
       "      <td>0</td>\n",
       "      <td>0</td>\n",
       "      <td>0</td>\n",
       "      <td>0</td>\n",
       "      <td>0</td>\n",
       "    </tr>\n",
       "    <tr>\n",
       "      <th>1</th>\n",
       "      <td>2.0</td>\n",
       "      <td>0.0</td>\n",
       "      <td>7.0</td>\n",
       "      <td>40557.0</td>\n",
       "      <td>40564.0</td>\n",
       "      <td>40132.0</td>\n",
       "      <td>2350.0</td>\n",
       "      <td>9.0</td>\n",
       "      <td>9.0</td>\n",
       "      <td>0.409</td>\n",
       "      <td>...</td>\n",
       "      <td>0</td>\n",
       "      <td>0</td>\n",
       "      <td>0</td>\n",
       "      <td>1</td>\n",
       "      <td>0</td>\n",
       "      <td>0</td>\n",
       "      <td>0</td>\n",
       "      <td>0</td>\n",
       "      <td>0</td>\n",
       "      <td>0</td>\n",
       "    </tr>\n",
       "    <tr>\n",
       "      <th>2</th>\n",
       "      <td>3.0</td>\n",
       "      <td>0.0</td>\n",
       "      <td>3.0</td>\n",
       "      <td>40558.0</td>\n",
       "      <td>40560.0</td>\n",
       "      <td>40466.0</td>\n",
       "      <td>1181.0</td>\n",
       "      <td>17.0</td>\n",
       "      <td>6.0</td>\n",
       "      <td>0.708</td>\n",
       "      <td>...</td>\n",
       "      <td>0</td>\n",
       "      <td>0</td>\n",
       "      <td>0</td>\n",
       "      <td>1</td>\n",
       "      <td>0</td>\n",
       "      <td>0</td>\n",
       "      <td>0</td>\n",
       "      <td>0</td>\n",
       "      <td>0</td>\n",
       "      <td>0</td>\n",
       "    </tr>\n",
       "    <tr>\n",
       "      <th>3</th>\n",
       "      <td>4.0</td>\n",
       "      <td>1.0</td>\n",
       "      <td>3.0</td>\n",
       "      <td>40558.0</td>\n",
       "      <td>40560.0</td>\n",
       "      <td>40550.0</td>\n",
       "      <td>376.0</td>\n",
       "      <td>0.0</td>\n",
       "      <td>0.0</td>\n",
       "      <td>0.000</td>\n",
       "      <td>...</td>\n",
       "      <td>0</td>\n",
       "      <td>0</td>\n",
       "      <td>1</td>\n",
       "      <td>1</td>\n",
       "      <td>0</td>\n",
       "      <td>0</td>\n",
       "      <td>0</td>\n",
       "      <td>0</td>\n",
       "      <td>0</td>\n",
       "      <td>1</td>\n",
       "    </tr>\n",
       "    <tr>\n",
       "      <th>4</th>\n",
       "      <td>5.0</td>\n",
       "      <td>0.0</td>\n",
       "      <td>6.0</td>\n",
       "      <td>40559.0</td>\n",
       "      <td>40564.0</td>\n",
       "      <td>40451.0</td>\n",
       "      <td>865.0</td>\n",
       "      <td>40.0</td>\n",
       "      <td>8.0</td>\n",
       "      <td>0.494</td>\n",
       "      <td>...</td>\n",
       "      <td>0</td>\n",
       "      <td>0</td>\n",
       "      <td>0</td>\n",
       "      <td>1</td>\n",
       "      <td>0</td>\n",
       "      <td>0</td>\n",
       "      <td>1</td>\n",
       "      <td>0</td>\n",
       "      <td>0</td>\n",
       "      <td>0</td>\n",
       "    </tr>\n",
       "  </tbody>\n",
       "</table>\n",
       "<p>5 rows × 252 columns</p>\n",
       "</div>"
      ],
      "text/plain": [
       "    ID  Is.Non.Annual.  Days  Departure.Date  Return.Date  Deposit.Date  \\\n",
       "0  1.0             0.0   1.0         40557.0      40557.0       40420.0   \n",
       "1  2.0             0.0   7.0         40557.0      40564.0       40132.0   \n",
       "2  3.0             0.0   3.0         40558.0      40560.0       40466.0   \n",
       "3  4.0             1.0   3.0         40558.0      40560.0       40550.0   \n",
       "4  5.0             0.0   6.0         40559.0      40564.0       40451.0   \n",
       "\n",
       "   Tuition  FRP.Active  FRP.Cancelled  FRP.Take.up.percent.  ...  \\\n",
       "0    424.0        25.0            3.0                 0.424  ...   \n",
       "1   2350.0         9.0            9.0                 0.409  ...   \n",
       "2   1181.0        17.0            6.0                 0.708  ...   \n",
       "3    376.0         0.0            0.0                 0.000  ...   \n",
       "4    865.0        40.0            8.0                 0.494  ...   \n",
       "\n",
       "   GroupGradeType_PK->High  GroupGradeType_PK->Middle  \\\n",
       "0                        0                          0   \n",
       "1                        0                          0   \n",
       "2                        0                          0   \n",
       "3                        0                          0   \n",
       "4                        0                          0   \n",
       "\n",
       "   GroupGradeType_Undefined->Undefined  MajorProgramCode_H  \\\n",
       "0                                    0                   1   \n",
       "1                                    0                   1   \n",
       "2                                    0                   1   \n",
       "3                                    1                   1   \n",
       "4                                    0                   1   \n",
       "\n",
       "   MajorProgramCode_I  MajorProgramCode_S  SchoolSizeIndicator_M-L  \\\n",
       "0                   0                   0                        0   \n",
       "1                   0                   0                        0   \n",
       "2                   0                   0                        0   \n",
       "3                   0                   0                        0   \n",
       "4                   0                   0                        1   \n",
       "\n",
       "   SchoolSizeIndicator_S  SchoolSizeIndicator_S-M  \\\n",
       "0                      0                        0   \n",
       "1                      0                        0   \n",
       "2                      0                        0   \n",
       "3                      0                        0   \n",
       "4                      0                        0   \n",
       "\n",
       "   SchoolSizeIndicator_missing_value  \n",
       "0                                  0  \n",
       "1                                  0  \n",
       "2                                  0  \n",
       "3                                  1  \n",
       "4                                  0  \n",
       "\n",
       "[5 rows x 252 columns]"
      ]
     },
     "execution_count": 142,
     "metadata": {},
     "output_type": "execute_result"
    }
   ],
   "source": [
    "#Data Cleaning Step 4: Creating dummy variables of categories\n",
    "df = pd.get_dummies(df, columns = df.select_dtypes(exclude=['int64','float64']).columns, drop_first = True)\n",
    "df.head()  # our dataset now has 252 columns(!)"
   ]
  },
  {
   "cell_type": "code",
   "execution_count": 143,
   "metadata": {},
   "outputs": [
    {
     "name": "stdout",
     "output_type": "stream",
     "text": [
      "(1911, 251)\n",
      "(478, 251)\n",
      "(1911,)\n",
      "(478,)\n"
     ]
    }
   ],
   "source": [
    "#Splitting X and y into training and testing\n",
    "\n",
    "y = df ['Retained.in.2012.']\n",
    "X = df.drop (columns = 'Retained.in.2012.')\n",
    "\n",
    "# split the data randomly into 80% train and 20% test samples (validation)\n",
    "\n",
    "np.random.seed(77300)\n",
    "\n",
    "\n",
    "X_train, X_test, y_train, y_test = train_test_split(X,y, test_size = 0.20, stratify=y)\n",
    "# stratified means the proportion of retained and not-retained customers is the same in both\n",
    "\n",
    "# Lets check the results\n",
    "print(X_train.shape)\n",
    "print(X_test.shape)\n",
    "print(y_train.shape)\n",
    "print(y_test.shape)\n"
   ]
  },
  {
   "cell_type": "markdown",
   "metadata": {},
   "source": [
    "# Applying Random Forest for Logistic Regression"
   ]
  },
  {
   "cell_type": "code",
   "execution_count": 144,
   "metadata": {},
   "outputs": [
    {
     "data": {
      "text/plain": [
       "RandomForestClassifier(random_state=77300)"
      ]
     },
     "execution_count": 144,
     "metadata": {},
     "output_type": "execute_result"
    }
   ],
   "source": [
    "# Define a random forest model and call it classifier_RF\n",
    "classifier_RF = RandomForestClassifier(random_state=77300) # recall what random_state mean\n",
    "\n",
    "# Train the model classifier_RF on the training data\n",
    "classifier_RF.fit(X_train, y_train)"
   ]
  },
  {
   "cell_type": "code",
   "execution_count": 145,
   "metadata": {},
   "outputs": [],
   "source": [
    "#  the threshold value to be 60.73% because it is the average probability of retention in our data (1451 \"1\"s out of 2389 datapoints) \n",
    "class_threshold = 0.6073\n",
    "\n",
    "\n",
    "# Use the trained model to predict testing data\n",
    "y_pred_prob = classifier_RF.predict_proba(X_test)[:,1] # probabilities \n",
    "y_pred = np.where(y_pred_prob > class_threshold, 1, 0) # classification"
   ]
  },
  {
   "cell_type": "code",
   "execution_count": 146,
   "metadata": {},
   "outputs": [
    {
     "name": "stdout",
     "output_type": "stream",
     "text": [
      "[0.6  0.35 0.78 1.   0.78 0.62 0.82 0.99 0.75 0.48]\n",
      "[0 0 1 1 1 1 1 1 1 0]\n",
      "1012    0.0\n",
      "575     0.0\n",
      "799     1.0\n",
      "455     1.0\n",
      "364     1.0\n",
      "2165    1.0\n",
      "1246    1.0\n",
      "2067    1.0\n",
      "1172    1.0\n",
      "2262    0.0\n",
      "Name: Retained.in.2012., dtype: float64\n"
     ]
    }
   ],
   "source": [
    "#Checking first 10 data points\n",
    "print(y_pred_prob[0:10]) # first 5 probabilities \n",
    "print(y_pred[0:10]) # resultant predicted classification \n",
    "print(y_test[0:10]) # actual outcomes\n",
    "\n"
   ]
  },
  {
   "cell_type": "markdown",
   "metadata": {},
   "source": [
    "# Model Validation - Confusion Matrix and ROC"
   ]
  },
  {
   "cell_type": "code",
   "execution_count": 147,
   "metadata": {},
   "outputs": [],
   "source": [
    "# Code copied from Online\n",
    "#Confusion Matrix returns in the format: cm[0,0], cm[0,1], cm[1,0], cm[1,1]: tn, fp, fn, tp\n",
    "\n",
    "# Sensitivity\n",
    "def custom_sensitivity_score(y_test, y_pred):\n",
    "    cm = confusion_matrix(y_test, y_pred)\n",
    "    tn, fp, fn, tp = cm[0][0], cm[0][1], cm[1][0], cm[1][1]\n",
    "    return (tp/(tp+fn))\n",
    "\n",
    "# Specificity\n",
    "def custom_specificity_score(y_test, y_pred):\n",
    "    cm = confusion_matrix(y_test, y_pred)\n",
    "    tn, fp, fn, tp = cm[0][0], cm[0][1], cm[1][0], cm[1][1]\n",
    "    return (tn/(tn+fp))\n",
    "\n",
    "# Positive Predictive Value\n",
    "def custom_ppv_score(y_test, y_pred):\n",
    "    cm = confusion_matrix(y_test, y_pred)\n",
    "    tn, fp, fn, tp = cm[0][0], cm[0][1], cm[1][0], cm[1][1]\n",
    "    return (tp/(tp+fp))\n",
    "\n",
    "# Negative Predictive Value\n",
    "def custom_npv_score(y_test, y_pred):\n",
    "    cm = confusion_matrix(y_test, y_pred)\n",
    "    tn, fp, fn, tp = cm[0][0], cm[0][1], cm[1][0], cm[1][1]\n",
    "    return (tn/(tn+fn))\n",
    "\n",
    "# Accuracy\n",
    "def custom_accuracy_score(y_test, y_pred):\n",
    "    cm = confusion_matrix(y_test, y_pred)\n",
    "    tn, fp, fn, tp = cm[0][0], cm[0][1], cm[1][0], cm[1][1]\n",
    "    return ((tn+tp)/(tn+tp+fn+fp))"
   ]
  },
  {
   "cell_type": "code",
   "execution_count": 148,
   "metadata": {},
   "outputs": [
    {
     "name": "stdout",
     "output_type": "stream",
     "text": [
      "Confusion matrix: \n",
      "[[156  77]\n",
      " [ 32 213]]\n"
     ]
    }
   ],
   "source": [
    "cm = np.transpose(confusion_matrix(y_test, y_pred))\n",
    "print(\"Confusion matrix: \\n\" + str(cm))"
   ]
  },
  {
   "cell_type": "code",
   "execution_count": 149,
   "metadata": {},
   "outputs": [
    {
     "name": "stdout",
     "output_type": "stream",
     "text": [
      " Accuracy: 0.7719665271966527\n",
      " SENSITIVITY (aka RECALL): 0.7344827586206897\n",
      " SPECIFICITY (aka FALL-OUT): 0.8297872340425532\n",
      " POSITIVE PREDICTIVE VALUE, (aka PRECISION): 0.8693877551020408\n",
      " NEGATIVE PREDICTIVE VALUE): 0.6695278969957081\n"
     ]
    }
   ],
   "source": [
    "print(\" Accuracy: \" + str(custom_accuracy_score(y_test, y_pred))) \n",
    "print(\" SENSITIVITY (aka RECALL): \" + str(custom_sensitivity_score(y_test, y_pred)))\n",
    "print(\" SPECIFICITY (aka FALL-OUT): \" + str(custom_specificity_score(y_test, y_pred)))\n",
    "print(\" POSITIVE PREDICTIVE VALUE, (aka PRECISION): \" + str(custom_ppv_score(y_test, y_pred)))\n",
    "print(\" NEGATIVE PREDICTIVE VALUE): \" + str(custom_npv_score(y_test, y_pred)))\n"
   ]
  },
  {
   "cell_type": "code",
   "execution_count": 150,
   "metadata": {},
   "outputs": [],
   "source": [
    "# ROC curve\n",
    "def plot_roc(y_test, y_pred):\n",
    "    fpr, tpr, thresholds = roc_curve(y_test, y_pred, pos_label=1, drop_intermediate = False)\n",
    "    roc_auc = auc(fpr, tpr)\n",
    "    plt.figure()\n",
    "    lw = 2\n",
    "    plt.plot(fpr, tpr, color='darkorange',\n",
    "             lw=lw, label='ROC curve (AUC = %0.2f)' % roc_auc)\n",
    "    plt.plot([0, 1], [0, 1], color='navy', lw=lw, linestyle='--')\n",
    "    plt.xlim([-0.001, 1.001])\n",
    "    plt.ylim([-0.001, 1.001])\n",
    "    plt.xlabel('1-Specificity (False Negative Rate)')\n",
    "    plt.ylabel('Sensitivity (True Positive Rate)')\n",
    "    plt.title('ROC curve')\n",
    "    plt.legend(loc=\"lower right\")\n",
    "    plt.show()"
   ]
  },
  {
   "cell_type": "code",
   "execution_count": 151,
   "metadata": {},
   "outputs": [
    {
     "data": {
      "image/png": "[encoded data removed]",
      "text/plain": [
       "<Figure size 432x288 with 1 Axes>"
      ]
     },
     "metadata": {
      "needs_background": "light"
     },
     "output_type": "display_data"
    },
    {
     "name": "stdout",
     "output_type": "stream",
     "text": [
      " AUC: 0.8565297138664709\n"
     ]
    }
   ],
   "source": [
    "plot_roc(y_test, y_pred_prob)\n",
    "print(\" AUC: \" + str(roc_auc_score(y_test, y_pred_prob)))"
   ]
  },
  {
   "cell_type": "markdown",
   "metadata": {},
   "source": [
    "# Enhancing Model Using GridsearchCV"
   ]
  },
  {
   "cell_type": "code",
   "execution_count": 153,
   "metadata": {},
   "outputs": [
    {
     "name": "stdout",
     "output_type": "stream",
     "text": [
      "Optimized hyper-parameters:{'n_estimators': 500}\n",
      "Metrics of the Random Forest model with the optimized hyper-parameter for the \"number of trees\": \n",
      "\n",
      "Confusion matrix: \n",
      "[[156  75]\n",
      " [ 32 215]]\n",
      " Accuracy: 0.7761506276150628\n",
      " SENSITIVITY (aka RECALL): 0.7413793103448276\n",
      " SPECIFICITY (aka FALL-OUT): 0.8297872340425532\n",
      " POSITIVE PREDICTIVE VALUE, (aka PRECISION): 0.8704453441295547\n",
      " NEGATIVE PREDICTIVE VALUE): 0.6753246753246753\n"
     ]
    },
    {
     "data": {
      "image/png": "[encoded data removed]",
      "text/plain": [
       "<Figure size 432x288 with 1 Axes>"
      ]
     },
     "metadata": {
      "needs_background": "light"
     },
     "output_type": "display_data"
    },
    {
     "name": "stdout",
     "output_type": "stream",
     "text": [
      " AUC: 0.8652879677182684\n"
     ]
    }
   ],
   "source": [
    "# Hyper-parameter tuning (\"optimization\") using the function GridSearchCV for maximizing AUC\n",
    "score_func = make_scorer(roc_auc_score, greater_is_better=True)\n",
    "\n",
    "n_trees = [100, 200, 300, 400, 500, 600] \n",
    "Grid_srch_parameters_list = [ [{'n_estimators':n_trees}] ] \n",
    "\n",
    "# we will apply a 5-fold cross-validation\n",
    "grid_search = GridSearchCV(estimator = classifier_RF, cv = 5, param_grid = Grid_srch_parameters_list[0], scoring = score_func,\n",
    "                              return_train_score = True) \n",
    "\n",
    "# apply function grid_search to the training data, call the resultand best model grid_search_RF\n",
    "grid_search_RF = grid_search.fit(X_train, y_train)\n",
    "\n",
    "# use the best model to predict the testing data\n",
    "y_pred_prob = grid_search_RF.predict_proba(X_test)[:,1] # probabilities  \n",
    "y_pred = np.where(y_pred_prob > class_threshold, 1, 0) # classification\n",
    "\n",
    "print('Optimized hyper-parameters:' + str(grid_search.best_params_))\n",
    "    \n",
    "# Lets look at the model metrics\n",
    "\n",
    "print('Metrics of the Random Forest model with the optimized hyper-parameter for the \"number of trees\": \\n')\n",
    "\n",
    "cm = np.transpose(confusion_matrix(y_test, y_pred))\n",
    "print(\"Confusion matrix: \\n\" + str(cm))\n",
    "\n",
    "print(\" Accuracy: \" + str(custom_accuracy_score(y_test, y_pred))) \n",
    "print(\" SENSITIVITY (aka RECALL): \" + str(custom_sensitivity_score(y_test, y_pred)))\n",
    "print(\" SPECIFICITY (aka FALL-OUT): \" + str(custom_specificity_score(y_test, y_pred)))\n",
    "print(\" POSITIVE PREDICTIVE VALUE, (aka PRECISION): \" + str(custom_ppv_score(y_test, y_pred)))\n",
    "print(\" NEGATIVE PREDICTIVE VALUE): \" + str(custom_npv_score(y_test, y_pred)))\n",
    "\n",
    "plot_roc(y_test, y_pred_prob)\n",
    "print(\" AUC: \" + str(roc_auc_score(y_test, y_pred_prob)))"
   ]
  },
  {
   "cell_type": "markdown",
   "metadata": {},
   "source": [
    "# Checking features that contribute to Customer Retention"
   ]
  },
  {
   "cell_type": "code",
   "execution_count": 154,
   "metadata": {},
   "outputs": [
    {
     "data": {
      "text/plain": [
       "<matplotlib.axes._subplots.AxesSubplot at 0x7fd1bc6b19a0>"
      ]
     },
     "execution_count": 154,
     "metadata": {},
     "output_type": "execute_result"
    },
    {
     "data": {
      "image/png": "[encoded data removed]",
      "text/plain": [
       "<Figure size 1080x360 with 1 Axes>"
      ]
     },
     "metadata": {
      "needs_background": "light"
     },
     "output_type": "display_data"
    }
   ],
   "source": [
    "# calculate feature importances\n",
    "importances = grid_search_RF.best_estimator_.feature_importances_ \n",
    "\n",
    "# plot them\n",
    "plt.figure(figsize=(15,5))\n",
    "plt.title('Feature Importance')\n",
    "plt.xlabel('Decrease in Gini (recal, Gini = 2*AUC-1)')\n",
    "feature_importances = pd.Series(classifier_RF.feature_importances_, index=X_train.columns)\n",
    "feature_importances.nlargest(15).sort_values().plot(kind='barh', align='center')"
   ]
  },
  {
   "cell_type": "code",
   "execution_count": null,
   "metadata": {},
   "outputs": [],
   "source": []
  }
 ],
 "metadata": {
  "kernelspec": {
   "display_name": "Python 3",
   "language": "python",
   "name": "python3"
  },
  "language_info": {
   "codemirror_mode": {
    "name": "ipython",
    "version": 3
   },
   "file_extension": ".py",
   "mimetype": "text/x-python",
   "name": "python",
   "nbconvert_exporter": "python",
   "pygments_lexer": "ipython3",
   "version": "3.8.3"
  }
 },
 "nbformat": 4,
 "nbformat_minor": 4
}
